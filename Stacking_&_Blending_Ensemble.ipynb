{
  "nbformat": 4,
  "nbformat_minor": 0,
  "metadata": {
    "colab": {
      "private_outputs": true,
      "provenance": []
    },
    "kernelspec": {
      "name": "python3",
      "display_name": "Python 3"
    },
    "language_info": {
      "name": "python"
    }
  },
  "cells": [
    {
      "cell_type": "markdown",
      "source": [
        "Stacking Classifier\n"
      ],
      "metadata": {
        "id": "AcI7XkRuA8op"
      }
    },
    {
      "cell_type": "code",
      "execution_count": null,
      "metadata": {
        "id": "k8waMWNaAlvq"
      },
      "outputs": [],
      "source": [
        "from sklearn.datasets import load_iris\n",
        "from sklearn.model_selection import train_test_split\n",
        "from sklearn.ensemble import RandomForestClassifier, GradientBoostingClassifier, StackingClassifier\n",
        "from sklearn.linear_model import LogisticRegression\n",
        "from sklearn.svm import SVC\n",
        "from sklearn.metrics import accuracy_score"
      ]
    },
    {
      "cell_type": "code",
      "source": [
        "X, y = load_iris(return_X_y=True)\n",
        "X_train, X_test, y_train, y_test = train_test_split(X, y, test_size=0.3, random_state=42)\n"
      ],
      "metadata": {
        "id": "Ct6pFft9B421"
      },
      "execution_count": null,
      "outputs": []
    },
    {
      "cell_type": "code",
      "source": [
        "base_learners = [\n",
        "    ('rf', RandomForestClassifier(n_estimators=10,random_state=42)),\n",
        "    ('gb', GradientBoostingClassifier(n_estimators=10,random_state=42)),\n",
        "    ('svc', SVC(probability=True,kernel='linear'))\n",
        "\n",
        "]"
      ],
      "metadata": {
        "id": "6nAmf-EXCTuo"
      },
      "execution_count": null,
      "outputs": []
    },
    {
      "cell_type": "code",
      "source": [
        "meta_learner = LogisticRegression()"
      ],
      "metadata": {
        "id": "81GXqLCpC9fj"
      },
      "execution_count": null,
      "outputs": []
    },
    {
      "cell_type": "code",
      "source": [
        "stack_model = StackingClassifier(estimators=base_learners, final_estimator=meta_learner, cv=5)\n",
        "\n",
        "stack_model.fit(X_train, y_train)"
      ],
      "metadata": {
        "id": "neo3WzinDFOm"
      },
      "execution_count": null,
      "outputs": []
    },
    {
      "cell_type": "code",
      "source": [
        "y_pred = stack_model.predict(X_test)\n",
        "print(\"Stacking Classifier Accuracy:\", accuracy_score(y_test, y_pred))"
      ],
      "metadata": {
        "id": "uDJYJxBIDwNJ"
      },
      "execution_count": null,
      "outputs": []
    },
    {
      "cell_type": "markdown",
      "source": [
        "Blending Classifier\n"
      ],
      "metadata": {
        "id": "DGh2x5qHESp1"
      }
    },
    {
      "cell_type": "code",
      "source": [
        "import numpy as np\n",
        "from sklearn.datasets import load_iris\n",
        "from sklearn.model_selection import train_test_split\n",
        "from sklearn.ensemble import RandomForestClassifier, GradientBoostingClassifier\n",
        "from sklearn.linear_model import LogisticRegression\n",
        "from sklearn.metrics import accuracy_score"
      ],
      "metadata": {
        "id": "WMqtZ0o_EeiO"
      },
      "execution_count": null,
      "outputs": []
    },
    {
      "cell_type": "code",
      "source": [
        "X, y = load_iris(return_X_y=True)\n",
        "X_train_full, X_test, y_train_full, y_test = train_test_split(X, y, test_size=0.3, random_state=42)\n"
      ],
      "metadata": {
        "id": "S_BrDHE1FKAj"
      },
      "execution_count": null,
      "outputs": []
    },
    {
      "cell_type": "code",
      "source": [
        "X_train, X_val, y_train, y_val = train_test_split(X_train_full, y_train_full, test_size=0.25, random_state=42)"
      ],
      "metadata": {
        "id": "FLIKs8X0FjUG"
      },
      "execution_count": null,
      "outputs": []
    },
    {
      "cell_type": "code",
      "source": [
        "rf = RandomForestClassifier(n_estimators=10, random_state=42)\n",
        "gb = GradientBoostingClassifier(n_estimators=10, random_state=42)"
      ],
      "metadata": {
        "id": "lTintmNsGQAi"
      },
      "execution_count": null,
      "outputs": []
    },
    {
      "cell_type": "code",
      "source": [
        "rf.fit(X_train, y_train)\n",
        "gb.fit(X_train, y_train)"
      ],
      "metadata": {
        "id": "deMNfn6yGgoF"
      },
      "execution_count": null,
      "outputs": []
    },
    {
      "cell_type": "code",
      "source": [
        "val_rf_pred = rf.predict_proba(X_val)\n",
        "val_gb_pred = gb.predict_proba(X_val)"
      ],
      "metadata": {
        "id": "9qs4Fj7nGy_l"
      },
      "execution_count": null,
      "outputs": []
    },
    {
      "cell_type": "code",
      "source": [
        "val_stack = np.hstack((val_rf_pred, val_gb_pred))"
      ],
      "metadata": {
        "id": "ejYAoqiNHHEu"
      },
      "execution_count": null,
      "outputs": []
    },
    {
      "cell_type": "code",
      "source": [
        "meta_model = LogisticRegression()\n",
        "meta_model.fit(val_stack, y_val)"
      ],
      "metadata": {
        "id": "CpbqwpCaHfWA"
      },
      "execution_count": null,
      "outputs": []
    },
    {
      "cell_type": "code",
      "source": [
        "test_rf_pred = rf.predict_proba(X_test)\n",
        "test_gb_pred = gb.predict_proba(X_test)\n",
        "test_stack = np.hstack((test_rf_pred,test_gb_pred))"
      ],
      "metadata": {
        "id": "sAfIZzckHyMT"
      },
      "execution_count": null,
      "outputs": []
    },
    {
      "cell_type": "code",
      "source": [
        "y_pred = meta_model.predict(test_stack)\n",
        "print(\"Blending Classifier Accuracy:\", accuracy_score(y_test, y_pred))"
      ],
      "metadata": {
        "id": "G4uD8xeuIYH-"
      },
      "execution_count": null,
      "outputs": []
    }
  ]
}