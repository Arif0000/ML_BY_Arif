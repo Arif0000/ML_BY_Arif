{
  "nbformat": 4,
  "nbformat_minor": 0,
  "metadata": {
    "colab": {
      "private_outputs": true,
      "provenance": []
    },
    "kernelspec": {
      "name": "python3",
      "display_name": "Python 3"
    },
    "language_info": {
      "name": "python"
    }
  },
  "cells": [
    {
      "cell_type": "code",
      "execution_count": null,
      "metadata": {
        "id": "6fmVn2TFroI4"
      },
      "outputs": [],
      "source": [
        "import optuna\n",
        "from sklearn.datasets import load_iris\n",
        "from sklearn.model_selection import cross_val_score, StratifiedKFold\n",
        "from sklearn.svm import SVC\n",
        "from sklearn.preprocessing import StandardScaler\n",
        "from sklearn.pipeline import Pipeline\n"
      ]
    },
    {
      "cell_type": "code",
      "source": [
        "X, y = load_iris(return_X_y=True)\n"
      ],
      "metadata": {
        "id": "CmBX6zvgtBUt"
      },
      "execution_count": null,
      "outputs": []
    },
    {
      "cell_type": "code",
      "source": [
        "def objective(trail):\n",
        "  C = trail.suggest_loguniform('C', 1e-3,1e3)\n",
        "  gamma = trail.suggest_loguniform(\"gamma\",1e-4,1e1)\n",
        "  kernel = trail.suggest_loguniform('kernal', ['rbf','poly'])\n",
        "\n",
        "  clf = Pipeline([\n",
        "      ('scalar', StandardScaler()),\n",
        "      ('svc', SVC(C=C, gamma=gamma, kernel=kernel))\n",
        "  ])\n",
        "\n",
        "  cv = StratifiedKFold(n_splits=3, shuffle=True, random_state=42)\n",
        "  scores = cross_val_score(clf, X, y, cv=cv, scoring='accuracy')\n",
        "  return scores.mean()"
      ],
      "metadata": {
        "id": "D8N8hi3EtBQD"
      },
      "execution_count": null,
      "outputs": []
    },
    {
      "cell_type": "code",
      "source": [
        "study = optuna.create_study(direction='maximize')\n",
        "study.optimize(objective, n_trials=30)\n",
        "\n"
      ],
      "metadata": {
        "id": "bRbiQE9av3V3"
      },
      "execution_count": null,
      "outputs": []
    },
    {
      "cell_type": "code",
      "source": [
        "print(\"Best trial:\")\n",
        "trial = study.best_trial\n",
        "print(f\"  Accuracy: {trial.value}\")\n",
        "print(f\"  Params: {trial.params}\")\n"
      ],
      "metadata": {
        "id": "kO4EiXHqwm-t"
      },
      "execution_count": null,
      "outputs": []
    }
  ]
}