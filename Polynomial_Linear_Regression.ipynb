{
  "nbformat": 4,
  "nbformat_minor": 0,
  "metadata": {
    "colab": {
      "private_outputs": true,
      "provenance": []
    },
    "kernelspec": {
      "name": "python3",
      "display_name": "Python 3"
    },
    "language_info": {
      "name": "python"
    }
  },
  "cells": [
    {
      "cell_type": "code",
      "execution_count": null,
      "metadata": {
        "id": "SjonKh3DA_yN"
      },
      "outputs": [],
      "source": [
        "import numpy as np\n",
        "import pandas as pd\n",
        "import matplotlib.pyplot as plt\n",
        "from sklearn.linear_model import LinearRegression\n",
        "from sklearn.preprocessing import PolynomialFeatures\n",
        "from sklearn.model_selection import train_test_split\n",
        "from sklearn.metrics import r2_score,mean_squared_error\n"
      ]
    },
    {
      "cell_type": "code",
      "source": [
        "np.random.seed(42)\n",
        "num_samples=10000000\n",
        "experience=np.random.uniform(0,10,num_samples)\n",
        "\n",
        "salary = 1000 * (experience**2) + 500 * experience + np.random.normal(10000,3000,num_samples)"
      ],
      "metadata": {
        "id": "T9modN-CGfX1"
      },
      "execution_count": null,
      "outputs": []
    },
    {
      "cell_type": "code",
      "source": [
        "placement_data=pd.DataFrame({\"Experience\":experience,\"Salary\":salary})"
      ],
      "metadata": {
        "id": "n2I64kBnHWiR"
      },
      "execution_count": null,
      "outputs": []
    },
    {
      "cell_type": "code",
      "source": [
        "\n",
        "X = placement_data[['Experience']]\n",
        "y = placement_data['Salary']\n",
        "\n",
        "# Polynomial transformation\n",
        "poly = PolynomialFeatures(degree=2)\n",
        "X_poly = poly.fit_transform(X)\n",
        "\n",
        "# Train-test split\n",
        "X_train, X_test, y_train, y_test = train_test_split(X_poly, y, test_size=0.2, random_state=42)\n",
        "\n",
        "model=LinearRegression()\n",
        "model.fit(X_train,y_train)\n",
        "\n",
        "y_pred = model.predict(X_test)\n",
        "\n",
        "mse=mean_squared_error(y_test,y_pred)\n",
        "r2=r2_score(y_test,y_pred)"
      ],
      "metadata": {
        "id": "9BBmOv0KHmnu"
      },
      "execution_count": null,
      "outputs": []
    },
    {
      "cell_type": "code",
      "source": [
        "print(\"Polynomial Regression Coefficient:\")\n",
        "print(\"Intercept\",model.intercept_)\n",
        "print(\"Coefficient\",model.coef_)\n",
        "print(\"\\n Model Evaluation:\")\n",
        "print(\"MSE\",mse)\n",
        "print(\"R2\",r2)"
      ],
      "metadata": {
        "id": "ywiAxdLJKQ0h"
      },
      "execution_count": null,
      "outputs": []
    },
    {
      "cell_type": "code",
      "source": [
        "X_range = np.linspace(min(experience),max(experience), 200).reshape(-1,1)\n",
        "X_range_poly = poly.transform(X_range)\n",
        "y_range_pred = model.predict(X_range_poly)"
      ],
      "metadata": {
        "id": "guka2KdCK7_R"
      },
      "execution_count": null,
      "outputs": []
    },
    {
      "cell_type": "code",
      "source": [
        "plt.figure(figsize=(10,6))\n",
        "plt.scatter(experience, salary, color='blue',alpha=0.5, label='Actual Data')\n",
        "plt.plot(X_range,y_range_pred, color='red',label='Plynomial Regression Curve')\n",
        "plt.title(\"Polynomial Regression on Placement Data\")\n",
        "plt.xlabel(\"Years of experience\")\n",
        "plt.ylabel(\"Salary\")\n",
        "plt.legend()\n",
        "plt.show()"
      ],
      "metadata": {
        "id": "aJjZewPSLtk8"
      },
      "execution_count": null,
      "outputs": []
    },
    {
      "cell_type": "markdown",
      "source": [],
      "metadata": {
        "id": "1nD8QixkLY-u"
      }
    }
  ]
}