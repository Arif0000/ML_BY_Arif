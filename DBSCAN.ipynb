{
  "nbformat": 4,
  "nbformat_minor": 0,
  "metadata": {
    "colab": {
      "private_outputs": true,
      "provenance": []
    },
    "kernelspec": {
      "name": "python3",
      "display_name": "Python 3"
    },
    "language_info": {
      "name": "python"
    }
  },
  "cells": [
    {
      "cell_type": "code",
      "execution_count": null,
      "metadata": {
        "id": "CWSt8Aus5p8D"
      },
      "outputs": [],
      "source": [
        "import numpy as np\n",
        "import matplotlib.pyplot as plt\n",
        "from sklearn.datasets import make_moons, make_blobs\n",
        "from sklearn.cluster import DBSCAN\n",
        "from sklearn.preprocessing import StandardScaler"
      ]
    },
    {
      "cell_type": "code",
      "source": [
        "X, y = make_moons(n_samples=300, noise=0.05, random_state=42)"
      ],
      "metadata": {
        "id": "rESWpbg76ZPN"
      },
      "execution_count": null,
      "outputs": []
    },
    {
      "cell_type": "code",
      "source": [
        "X = StandardScaler().fit_transform(X)\n",
        "\n",
        "dbscan = DBSCAN(eps=0.3, min_samples=10)\n",
        "\n",
        "labels = dbscan.fit_predict(X)"
      ],
      "metadata": {
        "id": "Rlu_ME_d6oZA"
      },
      "execution_count": null,
      "outputs": []
    },
    {
      "cell_type": "code",
      "source": [
        "plt.figure(figsize=(8, 5))\n",
        "unique_labels = set(labels)\n",
        "colors = [plt.cm.Spectral(each) for each in np.linspace(0, 1, len(unique_labels))]\n",
        "\n",
        "\n",
        "for label, col in zip(unique_labels, colors):\n",
        "  if label == -1:\n",
        "     col = [0,0,0,1]\n",
        "  class_member_mask = (labels == label)\n",
        "  Xx = X[class_member_mask]\n",
        "  plt.plot(Xx[:, 0],Xx[:, 1], 'o', markerfacecolor = tuple(col), markeredgecolor='k', markersize=6)\n",
        "\n",
        "plt.title(\"DBSCAN Clustering (Moon-shaped Data)\")\n",
        "plt.xlabel('Features 1')\n",
        "plt.ylabel(\"Feature 2\")\n",
        "plt.show()"
      ],
      "metadata": {
        "id": "Q0-x2vB97Izf"
      },
      "execution_count": null,
      "outputs": []
    }
  ]
}