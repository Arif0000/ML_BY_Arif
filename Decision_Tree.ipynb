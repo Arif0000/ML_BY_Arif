{
  "nbformat": 4,
  "nbformat_minor": 0,
  "metadata": {
    "colab": {
      "private_outputs": true,
      "provenance": []
    },
    "kernelspec": {
      "name": "python3",
      "display_name": "Python 3"
    },
    "language_info": {
      "name": "python"
    }
  },
  "cells": [
    {
      "cell_type": "code",
      "source": [
        "import pandas as pd\n",
        "import numpy as np\n",
        "from sklearn.tree import DecisionTreeClassifier,plot_tree\n",
        "from sklearn.model_selection import train_test_split\n",
        "from sklearn.preprocessing import LabelEncoder\n",
        "from sklearn.metrics import classification_report,accuracy_score\n",
        "import matplotlib.pyplot as plt\n",
        "import seaborn as sns"
      ],
      "metadata": {
        "id": "_mCP92hXiham"
      },
      "execution_count": null,
      "outputs": []
    },
    {
      "cell_type": "code",
      "source": [
        "df=pd.read_csv('/content/sample_data/drug_data_decisiontree_100k.csv')\n"
      ],
      "metadata": {
        "id": "rkujyVxBjrW4"
      },
      "execution_count": null,
      "outputs": []
    },
    {
      "cell_type": "code",
      "source": [
        "df.head(5)"
      ],
      "metadata": {
        "id": "7cZM4qwcltWR"
      },
      "execution_count": null,
      "outputs": []
    },
    {
      "cell_type": "code",
      "source": [
        "le_sex = LabelEncoder()\n",
        "le_bp = LabelEncoder()\n",
        "le_Cholesterol = LabelEncoder()\n",
        "le_drug = LabelEncoder()\n",
        "\n",
        "df[\"Sex\"]= le_sex.fit_transform(df['Sex'])\n",
        "df[\"BP\"]= le_bp.fit_transform(df['BP'])\n",
        "df['Cholesterol']=le_Cholesterol.fit_transform(df['Cholesterol'])\n",
        "df['Drug']=le_drug.fit_transform(df['Drug'])\n",
        "\n",
        "X = df[[\"Age\",'Sex','BP','Cholesterol','Na_to_K']]\n",
        "y=df['Drug']"
      ],
      "metadata": {
        "id": "mV0sWjrzj1rS"
      },
      "execution_count": null,
      "outputs": []
    },
    {
      "cell_type": "code",
      "source": [
        "X_train, X_test, y_train, y_test = train_test_split(X,y,test_size=0.2,random_state=42)"
      ],
      "metadata": {
        "id": "jtI3sohjmJVy"
      },
      "execution_count": null,
      "outputs": []
    },
    {
      "cell_type": "code",
      "source": [
        "model=DecisionTreeClassifier(criterion='gini',max_depth=5,random_state=42)\n",
        "model.fit(X_train,y_train)"
      ],
      "metadata": {
        "id": "xRBFk5I3miEv"
      },
      "execution_count": null,
      "outputs": []
    },
    {
      "cell_type": "code",
      "source": [
        "y_pred=model.predict(X_test)\n",
        "\n",
        "print(\"Accuracy\",accuracy_score(y_test,y_pred))\n",
        "print('Classifier Report',classification_report(y_test,y_pred,target_names=le_drug.classes_))"
      ],
      "metadata": {
        "id": "MxccSFx-nC7l"
      },
      "execution_count": null,
      "outputs": []
    },
    {
      "cell_type": "code",
      "source": [
        "plt.figure(figsize=(20,10))\n",
        "plot_tree(model,feature_names= X.columns, class_names=le_drug.classes_, filled=True,rounded=True)\n",
        "plt.title(\"Decision Tree for drug Classifier\")\n",
        "plt.show()"
      ],
      "metadata": {
        "id": "TPYxBNMGnJbn"
      },
      "execution_count": null,
      "outputs": []
    },
    {
      "cell_type": "code",
      "source": [
        "feature_importances=pd.Series(model.feature_importances_, index=X.columns)\n",
        "sns.barplot(x=feature_importances.values, y=feature_importances.index)\n",
        "plt.title(\"Feature Importance\")\n",
        "plt.show()"
      ],
      "metadata": {
        "id": "pojntKkgsGKp"
      },
      "execution_count": null,
      "outputs": []
    },
    {
      "cell_type": "code",
      "source": [
        "import pandas as pd\n",
        "import numpy as np\n",
        "import matplotlib.pyplot as plt\n",
        "import seaborn as sns\n",
        "\n",
        "from sklearn.model_selection import train_test_split, GridSearchCV\n",
        "from sklearn.tree import DecisionTreeClassifier, plot_tree\n",
        "from sklearn.preprocessing import LabelEncoder\n",
        "from sklearn.metrics import accuracy_score, classification_report\n",
        "\n",
        "# Load data\n",
        "df = pd.read_csv('/content/sample_data/drug_data_decisiontree_100k.csv')\n",
        "\n",
        "\n",
        "le_sex = LabelEncoder()\n",
        "le_bp = LabelEncoder()\n",
        "le_chol = LabelEncoder()\n",
        "le_drug = LabelEncoder()\n",
        "\n",
        "df['Sex'] = le_sex.fit_transform(df['Sex'])\n",
        "df['BP'] = le_bp.fit_transform(df['BP'])\n",
        "df['Cholesterol'] = le_chol.fit_transform(df['Cholesterol'])\n",
        "df['Drug'] = le_drug.fit_transform(df['Drug'])\n",
        "\n",
        "# Feature matrix and target vector\n",
        "X = df[['Age', 'Sex', 'BP', 'Cholesterol', 'Na_to_K']]\n",
        "y = df['Drug']\n",
        "\n",
        "\n",
        "X_train, X_test, y_train, y_test = train_test_split(X, y, test_size=0.2, random_state=42)\n",
        "\n",
        "# Hyperparameter tuning with GridSearchCV\n",
        "param_grid = {\n",
        "    'criterion': ['gini', 'entropy'],\n",
        "    'max_depth': [3, 5, 10, 15, None],\n",
        "    'min_samples_split': [2, 5, 10],\n",
        "    'min_samples_leaf': [1, 2, 4]\n",
        "}\n",
        "\n",
        "grid = GridSearchCV(\n",
        "    estimator=DecisionTreeClassifier(random_state=42),\n",
        "    param_grid=param_grid,\n",
        "    scoring='accuracy',\n",
        "    cv=5,\n",
        "    n_jobs=-1,\n",
        "    verbose=1\n",
        ")\n",
        "\n",
        "grid.fit(X_train, y_train)\n",
        "\n",
        "\n",
        "best_model = grid.best_estimator_\n",
        "\n",
        "\n",
        "y_pred = best_model.predict(X_test)\n",
        "\n",
        "#\n",
        "print(\"Best Hyperparameters:\", grid.best_params_)\n",
        "print(\"Test Accuracy:\", accuracy_score(y_test, y_pred))\n",
        "print(\"\\nClassification Report:\\n\", classification_report(y_test, y_pred, target_names=le_drug.classes_))\n",
        "\n",
        "\n",
        "feature_importances = pd.Series(best_model.feature_importances_, index=X.columns)\n",
        "sns.barplot(x=feature_importances.values, y=feature_importances.index)\n",
        "plt.title(\"Feature Importance\")\n",
        "plt.show()\n",
        "\n",
        "\n",
        "plt.figure(figsize=(20, 10))\n",
        "plot_tree(best_model,\n",
        "          feature_names=X.columns,\n",
        "          class_names=le_drug.classes_,\n",
        "          filled=True,\n",
        "          rounded=True)\n",
        "plt.title(\"Optimized Decision Tree for Drug Classification\")\n",
        "plt.show()\n"
      ],
      "metadata": {
        "id": "R56fQSlZvfa1"
      },
      "execution_count": null,
      "outputs": []
    }
  ]
}