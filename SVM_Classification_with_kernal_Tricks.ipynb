{
  "nbformat": 4,
  "nbformat_minor": 0,
  "metadata": {
    "colab": {
      "private_outputs": true,
      "provenance": []
    },
    "kernelspec": {
      "name": "python3",
      "display_name": "Python 3"
    },
    "language_info": {
      "name": "python"
    }
  },
  "cells": [
    {
      "cell_type": "code",
      "execution_count": null,
      "metadata": {
        "id": "besLP1aoo2Lq"
      },
      "outputs": [],
      "source": [
        "import numpy as np\n",
        "import matplotlib.pyplot as plt\n",
        "from sklearn import datasets\n",
        "from sklearn.model_selection import train_test_split\n",
        "from sklearn.svm import SVC\n",
        "from sklearn.metrics import accuracy_score, confusion_matrix, classification_report\n",
        "import seaborn as sns\n",
        "\n"
      ]
    },
    {
      "cell_type": "code",
      "source": [
        "iris = datasets.load_iris()\n",
        "X = iris.data[:,:2]\n",
        "y = iris.target\n",
        "\n",
        "X_train, X_test, y_train, y_test = train_test_split(X, y, test_size=0.3,random_state=42)"
      ],
      "metadata": {
        "id": "KNNk0zZ5p4ZD"
      },
      "execution_count": null,
      "outputs": []
    },
    {
      "cell_type": "code",
      "source": [
        "svm_model = SVC(kernel='rbf', C=1.0,gamma='scale')\n",
        "svm_model.fit(X_train, y_train)\n",
        "y_pred = svm_model.predict(X_test)"
      ],
      "metadata": {
        "id": "K9OvhmZdqdk4"
      },
      "execution_count": null,
      "outputs": []
    },
    {
      "cell_type": "code",
      "source": [
        "print(\"Accuracy:\", accuracy_score(y_test, y_pred))\n",
        "print('\\nClassicification Report:\\n', classification_report(y_test, y_pred))\n"
      ],
      "metadata": {
        "id": "MkP9CPjIrHDG"
      },
      "execution_count": null,
      "outputs": []
    },
    {
      "cell_type": "code",
      "source": [
        "cm = confusion_matrix(y_test, y_pred)\n",
        "sns.heatmap(cm,annot=True, fmt='d', cmap=\"Blues\", xticklabels= iris.target_names, yticklabels= iris.target_names)\n",
        "plt.xlabel(\"Predicted\")\n",
        "plt.ylabel(\"Actual\")\n",
        "plt.title(\"Confustion matrix\")\n",
        "plt.show()"
      ],
      "metadata": {
        "id": "fHOsEkQnrrYV"
      },
      "execution_count": null,
      "outputs": []
    },
    {
      "cell_type": "code",
      "source": [
        "def plot_svm(model, X, y, title):\n",
        "  h = 0.02\n",
        "  x_min, x_max = X[:,0].min() - 1, X[:,0].max() + 1\n",
        "  y_min, y_max = X[:,1].min() - 1, X[:,1].max() + 1\n",
        "  xx, yy = np.meshgrid(np.arange(x_min, x_max, h), np.arange(y_min, y_max, h))\n",
        "\n",
        "  Z = model.predict(np.c_[xx.ravel(), yy.ravel()])\n",
        "  Z = Z.reshape(xx.shape)\n",
        "\n",
        "  plt.contourf(xx, yy, Z, cmap = plt.cm.coolwarm, alpha=0.8)\n",
        "  plt.scatter(X[:,0], X[:,1], c=y, cmap = plt.cm.coolwarm, edgecolors='k')\n",
        "  plt.xlabel(iris.feature_names[0])\n",
        "  plt.ylabel(iris.feature_names[1])\n",
        "  plt.title(title)\n",
        "  plt.show()\n",
        "\n",
        "plot_svm(svm_model, X, y, 'SVM Decision Boundary (RBF kernal)')"
      ],
      "metadata": {
        "id": "TC-yVBmOs8iy"
      },
      "execution_count": null,
      "outputs": []
    }
  ]
}