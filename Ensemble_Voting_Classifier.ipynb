{
  "nbformat": 4,
  "nbformat_minor": 0,
  "metadata": {
    "colab": {
      "private_outputs": true,
      "provenance": []
    },
    "kernelspec": {
      "name": "python3",
      "display_name": "Python 3"
    },
    "language_info": {
      "name": "python"
    }
  },
  "cells": [
    {
      "cell_type": "code",
      "execution_count": null,
      "metadata": {
        "id": "dZiqr8pRQQsl"
      },
      "outputs": [],
      "source": [
        "from sklearn.datasets import load_iris\n",
        "from sklearn.model_selection import train_test_split\n",
        "from sklearn.ensemble import VotingClassifier\n",
        "from sklearn.linear_model import LogisticRegression\n",
        "from sklearn.tree import DecisionTreeClassifier\n",
        "from sklearn.neighbors import KNeighborsClassifier\n",
        "from sklearn.metrics import accuracy_score"
      ]
    },
    {
      "cell_type": "code",
      "source": [
        "X,y=load_iris(return_X_y=True)\n",
        "\n",
        "X_train, X_test, y_train, y_test = train_test_split(X,y,test_size=0.3,random_state=42)"
      ],
      "metadata": {
        "id": "ia4k8MUbRcTb"
      },
      "execution_count": null,
      "outputs": []
    },
    {
      "cell_type": "code",
      "source": [
        "model1 = LogisticRegression()\n",
        "model2 = DecisionTreeClassifier()\n",
        "model3= KNeighborsClassifier()"
      ],
      "metadata": {
        "id": "oovchl3LR5t_"
      },
      "execution_count": null,
      "outputs": []
    },
    {
      "cell_type": "code",
      "source": [
        "hard_voting_clf = VotingClassifier (estimators=[('lr',model1),('dt',model2),('knn',model3)],voting='hard')\n",
        "\n",
        "hard_voting_clf.fit(X_train,y_train)\n",
        "y_pred_hard=hard_voting_clf.predict(X_test)\n",
        "\n",
        "print(\"Harding Voting Accuracy\",accuracy_score(y_test,y_pred_hard))"
      ],
      "metadata": {
        "id": "uLpheHxJSKxH"
      },
      "execution_count": null,
      "outputs": []
    },
    {
      "cell_type": "code",
      "source": [
        "soft_voting_clf=VotingClassifier(estimators=[('lr',model1),(\"dt\",model2),(\"knn\",model3)],voting='soft')"
      ],
      "metadata": {
        "id": "vdeWI2thTg-V"
      },
      "execution_count": null,
      "outputs": []
    },
    {
      "cell_type": "code",
      "source": [
        "soft_voting_clf.fit(X_train,y_train)\n",
        "y_pred_soft= soft_voting_clf.predict(X_test)\n",
        "\n",
        "print(\"Soft Voting Accuracy\",accuracy_score(y_test,y_pred_soft))"
      ],
      "metadata": {
        "id": "2l6rA9CqUNdM"
      },
      "execution_count": null,
      "outputs": []
    }
  ]
}