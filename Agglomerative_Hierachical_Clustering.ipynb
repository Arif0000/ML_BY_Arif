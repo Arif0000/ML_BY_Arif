{
  "nbformat": 4,
  "nbformat_minor": 0,
  "metadata": {
    "colab": {
      "private_outputs": true,
      "provenance": []
    },
    "kernelspec": {
      "name": "python3",
      "display_name": "Python 3"
    },
    "language_info": {
      "name": "python"
    }
  },
  "cells": [
    {
      "cell_type": "code",
      "execution_count": null,
      "metadata": {
        "id": "5hXbDMOqJVqH"
      },
      "outputs": [],
      "source": [
        "import numpy as np\n",
        "import matplotlib.pyplot as plt\n",
        "from sklearn.datasets import make_blobs\n",
        "from sklearn.cluster import AgglomerativeClustering\n",
        "from scipy.cluster.hierarchy import dendrogram, linkage"
      ]
    },
    {
      "cell_type": "code",
      "source": [
        "X, y_true = make_blobs(n_samples=200, centers=1, cluster_std=1.0, random_state=42)"
      ],
      "metadata": {
        "id": "FMu1k6r5K1Cq"
      },
      "execution_count": null,
      "outputs": []
    },
    {
      "cell_type": "code",
      "source": [
        "plt.scatter(X[:, 0], X[:, 1], s=30)\n",
        "plt.title(\"Original Data\")\n",
        "plt.show()"
      ],
      "metadata": {
        "id": "MS-CFr3pLK_4"
      },
      "execution_count": null,
      "outputs": []
    },
    {
      "cell_type": "code",
      "source": [
        "linked = linkage(X, method='ward')"
      ],
      "metadata": {
        "id": "ImiKRa0iLi5I"
      },
      "execution_count": null,
      "outputs": []
    },
    {
      "cell_type": "code",
      "source": [
        "plt.figure(figsize=(10, 5))\n",
        "dendrogram(linked, truncate_mode='lastp', p=30, leaf_font_size=12., show_contracted=True )\n",
        "plt.title('Dendogram (Ward Linkage)')\n",
        "plt.xlabel(\"Sample index or cluster size\")\n",
        "plt.ylabel('Distance')\n",
        "plt.show()"
      ],
      "metadata": {
        "id": "2jyt3e9sMkjB"
      },
      "execution_count": null,
      "outputs": []
    },
    {
      "cell_type": "code",
      "source": [
        "agglo = AgglomerativeClustering(n_clusters=1, metric='euclidean', linkage='ward')\n",
        "\n",
        "y_pred = agglo.fit_predict(X)"
      ],
      "metadata": {
        "id": "_yj45TihNyUz"
      },
      "execution_count": null,
      "outputs": []
    },
    {
      "cell_type": "code",
      "source": [
        "plt.scatter(X[:, 0], X[:, 1], c=y_pred, cmap='viridis',s=30)\n",
        "plt.title(\"Agglomerative Clustering Result\")\n",
        "plt.show()"
      ],
      "metadata": {
        "id": "zBpk1RAcOZZe"
      },
      "execution_count": null,
      "outputs": []
    }
  ]
}