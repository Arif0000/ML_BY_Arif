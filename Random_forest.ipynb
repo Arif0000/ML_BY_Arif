{
  "nbformat": 4,
  "nbformat_minor": 0,
  "metadata": {
    "colab": {
      "private_outputs": true,
      "provenance": []
    },
    "kernelspec": {
      "name": "python3",
      "display_name": "Python 3"
    },
    "language_info": {
      "name": "python"
    }
  },
  "cells": [
    {
      "cell_type": "code",
      "execution_count": null,
      "metadata": {
        "id": "1hHy1wlp-0wT"
      },
      "outputs": [],
      "source": [
        "import pandas as pd\n",
        "import numpy as np\n",
        "import matplotlib.pyplot as plt\n",
        "from sklearn.datasets import load_breast_cancer\n",
        "from sklearn.model_selection import train_test_split\n",
        "from sklearn.tree import DecisionTreeClassifier\n",
        "from sklearn.ensemble import RandomForestClassifier\n",
        "from sklearn.metrics import accuracy_score"
      ]
    },
    {
      "cell_type": "code",
      "source": [
        "data = load_breast_cancer()\n",
        "\n",
        "X = pd.DataFrame(data.data, columns= data.feature_names)\n",
        "\n",
        "y = data.target"
      ],
      "metadata": {
        "id": "0AbaLtKd65jG"
      },
      "execution_count": null,
      "outputs": []
    },
    {
      "cell_type": "code",
      "source": [
        "X_train, X_test, y_train, y_test = train_test_split(X, y, test_size=0.2, random_state=42)"
      ],
      "metadata": {
        "id": "zL4PFNoi7wNo"
      },
      "execution_count": null,
      "outputs": []
    },
    {
      "cell_type": "code",
      "source": [
        "dt_model = DecisionTreeClassifier(random_state=42)\n",
        "dt_model.fit(X_train, y_train)\n",
        "\n",
        "dt_pred = dt_model.predict(X_test)"
      ],
      "metadata": {
        "id": "FgUhBY8j8Am2"
      },
      "execution_count": null,
      "outputs": []
    },
    {
      "cell_type": "code",
      "source": [
        "rf_model = RandomForestClassifier(n_estimators=100, random_state=42)\n",
        "rf_model.fit(X_train, y_train)\n",
        "\n",
        "rf_pred = rf_model.predict(X_test)"
      ],
      "metadata": {
        "id": "bWm-eEDb87Zo"
      },
      "execution_count": null,
      "outputs": []
    },
    {
      "cell_type": "code",
      "source": [
        "print(f\"Decision Tree Accuracy: {accuracy_score(y_test, dt_pred):.4f}\")\n",
        "print(f\"Random Forest Accuracy: {accuracy_score(y_test, rf_pred):.4f}\")"
      ],
      "metadata": {
        "id": "MZcyl4Fk9ch7"
      },
      "execution_count": null,
      "outputs": []
    },
    {
      "cell_type": "code",
      "source": [
        "def plot_features_importance(model, model_name):\n",
        "    imp = model.feature_importances_\n",
        "    indices = np.argsort(imp)[::-1]  # Sort in descending order\n",
        "    features = X.columns[indices]\n",
        "\n",
        "    plt.figure(figsize=(20, 10))\n",
        "    plt.title(f\"{model_name} - Feature Importance\")\n",
        "    plt.bar(range(len(imp)), imp[indices], align='center')\n",
        "    plt.xticks(range(len(imp)), features, rotation=45, ha='right')\n",
        "    plt.tight_layout()\n",
        "    plt.show()\n",
        "\n",
        "# Call the function\n",
        "plot_features_importance(dt_model, 'Decision Tree')\n",
        "plot_features_importance(rf_model, 'Random Forest')\n"
      ],
      "metadata": {
        "collapsed": true,
        "id": "VPkzyFuMB-iw"
      },
      "execution_count": null,
      "outputs": []
    },
    {
      "cell_type": "code",
      "source": [],
      "metadata": {
        "id": "HJGNuSMtCngr"
      },
      "execution_count": null,
      "outputs": []
    }
  ]
}