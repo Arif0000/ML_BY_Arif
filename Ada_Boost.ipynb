{
  "nbformat": 4,
  "nbformat_minor": 0,
  "metadata": {
    "colab": {
      "private_outputs": true,
      "provenance": []
    },
    "kernelspec": {
      "name": "python3",
      "display_name": "Python 3"
    },
    "language_info": {
      "name": "python"
    }
  },
  "cells": [
    {
      "cell_type": "code",
      "source": [
        "#AdaBoost Classifier"
      ],
      "metadata": {
        "id": "2J7QLS_x1Aj5"
      },
      "execution_count": null,
      "outputs": []
    },
    {
      "cell_type": "code",
      "execution_count": null,
      "metadata": {
        "id": "E5xGedB5CrK8"
      },
      "outputs": [],
      "source": [
        "from sklearn.ensemble import AdaBoostClassifier\n",
        "from sklearn.tree import DecisionTreeClassifier\n",
        "from sklearn.datasets import load_iris\n",
        "from sklearn.model_selection import train_test_split\n",
        "from sklearn.metrics import accuracy_score"
      ]
    },
    {
      "cell_type": "code",
      "source": [
        "X, y = load_iris(return_X_y=True)\n",
        "\n",
        "X_train, X_test, y_train, y_test = train_test_split(X, y, test_size=0.2, random_state=42)"
      ],
      "metadata": {
        "id": "TtIRpRIJyw84"
      },
      "execution_count": null,
      "outputs": []
    },
    {
      "cell_type": "code",
      "source": [
        "estimator = DecisionTreeClassifier(max_depth=1)\n",
        "\n",
        "ada_clf = AdaBoostClassifier(estimator= estimator, n_estimators=50, learning_rate=1.0, random_state=42)"
      ],
      "metadata": {
        "id": "EL88Ot5mzHJQ"
      },
      "execution_count": null,
      "outputs": []
    },
    {
      "cell_type": "code",
      "source": [
        "ada_clf.fit(X_train, y_train)\n",
        "\n",
        "y_pred = ada_clf.predict(X_test)"
      ],
      "metadata": {
        "id": "CZxwEAvuz_-C"
      },
      "execution_count": null,
      "outputs": []
    },
    {
      "cell_type": "code",
      "source": [
        "print(\"AdaBoosting:\", accuracy_score(y_test, y_pred))"
      ],
      "metadata": {
        "id": "9CjLeoJx0Qs8"
      },
      "execution_count": null,
      "outputs": []
    },
    {
      "cell_type": "code",
      "source": [
        "#AdaBoost Regressor"
      ],
      "metadata": {
        "id": "xtOJ7LPr1G_W"
      },
      "execution_count": null,
      "outputs": []
    },
    {
      "cell_type": "code",
      "source": [
        "from sklearn.ensemble import AdaBoostRegressor\n",
        "from sklearn.tree import DecisionTreeRegressor\n",
        "from sklearn.model_selection import train_test_split\n",
        "from sklearn.datasets import load_diabetes\n",
        "from sklearn.metrics import mean_squared_error\n",
        "\n",
        "X, y = load_diabetes(return_X_y=True)\n",
        "\n",
        "X_train, X_test, y_train, y_test = train_test_split(X, y, test_size=0.2, random_state=42)\n",
        "\n",
        "estimator = DecisionTreeRegressor(max_depth=4)\n",
        "\n",
        "ada_reg = AdaBoostRegressor(\n",
        "    estimator= estimator,\n",
        "    n_estimators=50,\n",
        "    learning_rate=1.0,\n",
        "    random_state=42)"
      ],
      "metadata": {
        "id": "3ItMaBg-1NYd"
      },
      "execution_count": null,
      "outputs": []
    },
    {
      "cell_type": "code",
      "source": [
        "ada_reg.fit(X_train, y_train)\n",
        "\n",
        "y_pred = ada_reg.predict(X_test)\n",
        "\n",
        "print(\"AdaBoost MSE\", mean_squared_error(y_test, y_pred))"
      ],
      "metadata": {
        "id": "6VaNSf8l2gWp"
      },
      "execution_count": null,
      "outputs": []
    },
    {
      "cell_type": "markdown",
      "source": [],
      "metadata": {
        "id": "5OayYpQ72e9V"
      }
    }
  ]
}