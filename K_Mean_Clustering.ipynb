{
  "nbformat": 4,
  "nbformat_minor": 0,
  "metadata": {
    "colab": {
      "private_outputs": true,
      "provenance": []
    },
    "kernelspec": {
      "name": "python3",
      "display_name": "Python 3"
    },
    "language_info": {
      "name": "python"
    }
  },
  "cells": [
    {
      "cell_type": "code",
      "execution_count": null,
      "metadata": {
        "id": "haKxHmKW5cu3"
      },
      "outputs": [],
      "source": [
        "import numpy as np\n",
        "import matplotlib.pyplot as plt\n",
        "from sklearn.datasets import make_blobs\n",
        "from sklearn.cluster import KMeans\n",
        "from sklearn.metrics import silhouette_score"
      ]
    },
    {
      "cell_type": "code",
      "source": [
        "X, y_true = make_blobs(n_samples=300, centers=4, cluster_std=0.60, random_state=42)"
      ],
      "metadata": {
        "id": "h-w8_mqR-jbP"
      },
      "execution_count": null,
      "outputs": []
    },
    {
      "cell_type": "code",
      "source": [
        "plt.scatter(X[:, 0],X[:, 1], s=50)\n",
        "plt.title(\"Generated Data\")\n",
        "plt.show()"
      ],
      "metadata": {
        "id": "xjtSwtUz_DYO"
      },
      "execution_count": null,
      "outputs": []
    },
    {
      "cell_type": "code",
      "source": [
        "k=4\n",
        "kmeans = KMeans(n_clusters=k, random_state=42)\n",
        "kmeans.fit(X)\n",
        "lables = kmeans.labels_\n",
        "centroids = kmeans.cluster_centers_\n"
      ],
      "metadata": {
        "id": "djIkTWAMAb3w"
      },
      "execution_count": null,
      "outputs": []
    },
    {
      "cell_type": "code",
      "source": [
        "plt.scatter(X[:, 0], X[:, 1], c=lables, cmap='viridis', s=50)\n",
        "plt.scatter(centroids[:, 0], centroids[:, 1], s=200, c='red', marker='o')\n",
        "plt.title(\"K-Means Clustering\")\n",
        "plt.show()"
      ],
      "metadata": {
        "id": "tC0iRqOIB5xY"
      },
      "execution_count": null,
      "outputs": []
    },
    {
      "cell_type": "code",
      "source": [
        "inertia = kmeans.inertia_\n",
        "sil_score = silhouette_score(X, lables)\n",
        "\n",
        "print(f\"Inertia (WCSS):{inertia:.2f}\")\n",
        "print(f\"Silhouette Scores: {sil_score:.4f}\")"
      ],
      "metadata": {
        "id": "o4dO0safDGtF"
      },
      "execution_count": null,
      "outputs": []
    }
  ]
}