{
  "nbformat": 4,
  "nbformat_minor": 0,
  "metadata": {
    "colab": {
      "private_outputs": true,
      "provenance": []
    },
    "kernelspec": {
      "name": "python3",
      "display_name": "Python 3"
    },
    "language_info": {
      "name": "python"
    }
  },
  "cells": [
    {
      "cell_type": "code",
      "execution_count": null,
      "metadata": {
        "id": "tuW3odQUVWp-"
      },
      "outputs": [],
      "source": [
        "#Bagging Classifier"
      ]
    },
    {
      "cell_type": "code",
      "source": [
        "from sklearn.datasets import load_iris\n",
        "from sklearn.tree import DecisionTreeClassifier\n",
        "from sklearn.ensemble import BaggingClassifier\n",
        "from sklearn.model_selection import train_test_split\n",
        "from sklearn.metrics import accuracy_score"
      ],
      "metadata": {
        "id": "Q7l5jeVURBeQ"
      },
      "execution_count": null,
      "outputs": []
    },
    {
      "cell_type": "code",
      "source": [
        "X,y=load_iris(return_X_y=True)\n",
        "X_train, X_test, y_train, y_test = train_test_split(X,y,test_size=0.2,random_state=42)"
      ],
      "metadata": {
        "id": "afrGZTOJRp3C"
      },
      "execution_count": null,
      "outputs": []
    },
    {
      "cell_type": "code",
      "source": [
        "base_clf=DecisionTreeClassifier()"
      ],
      "metadata": {
        "id": "D14FqkTSSItg"
      },
      "execution_count": null,
      "outputs": []
    },
    {
      "cell_type": "code",
      "source": [
        "#Normal Bagging\n",
        "bagging_normal = BaggingClassifier(estimator=base_clf,n_estimators=10,bootstrap=True,bootstrap_features=False,random_state=1)"
      ],
      "metadata": {
        "id": "R6p0dUKtSOtd"
      },
      "execution_count": null,
      "outputs": []
    },
    {
      "cell_type": "code",
      "source": [
        "#Pasing Bagging\n",
        "bagging_pasting = BaggingClassifier(estimator=base_clf,n_estimators=10,bootstrap=False,bootstrap_features=False,random_state=1)"
      ],
      "metadata": {
        "id": "VSPUMQ9hTHHl"
      },
      "execution_count": null,
      "outputs": []
    },
    {
      "cell_type": "code",
      "source": [
        "#Random Subspaces Bagging\n",
        "bagging_Subspace = BaggingClassifier(estimator=base_clf,n_estimators=10,bootstrap=False,bootstrap_features=True,max_features=0.7,random_state=1)"
      ],
      "metadata": {
        "id": "zTefZGk0TnXL"
      },
      "execution_count": null,
      "outputs": []
    },
    {
      "cell_type": "code",
      "source": [
        "#Random Patches Bagging\n",
        "bagging_Patch = BaggingClassifier(estimator=base_clf,n_estimators=10,bootstrap=True,bootstrap_features=True,max_samples=0.7,max_features=0.7,random_state=1)"
      ],
      "metadata": {
        "id": "roJfXoCXUBEZ"
      },
      "execution_count": null,
      "outputs": []
    },
    {
      "cell_type": "code",
      "source": [
        "models = {\n",
        "    \"Normal Bagging\": bagging_normal,\n",
        "    \"Pasting\": bagging_pasting,\n",
        "    \"Random Subspace\": bagging_Subspace,\n",
        "    \"Random Patches\": bagging_Patch\n",
        "}\n"
      ],
      "metadata": {
        "id": "VdDZMv3rYIR_"
      },
      "execution_count": null,
      "outputs": []
    },
    {
      "cell_type": "code",
      "source": [
        "for name, model in models.items():\n",
        "  model.fit(X_train, y_train)\n",
        "  preds = model.predict(X_test)\n",
        "  print(f\"{name} Accuracy: {accuracy_score(y_test, preds):.4f}\")"
      ],
      "metadata": {
        "id": "9ofhfOsCU29X"
      },
      "execution_count": null,
      "outputs": []
    },
    {
      "cell_type": "code",
      "source": [
        "#Bagging Regressor"
      ],
      "metadata": {
        "id": "ZcktWYeTZFjz"
      },
      "execution_count": null,
      "outputs": []
    },
    {
      "cell_type": "code",
      "source": [
        "from sklearn.datasets import load_diabetes\n",
        "from sklearn.tree import DecisionTreeRegressor\n",
        "from sklearn.ensemble import BaggingRegressor\n",
        "from sklearn.metrics import mean_squared_error\n",
        "import numpy as np\n"
      ],
      "metadata": {
        "id": "XPpwL6DRZJsI"
      },
      "execution_count": null,
      "outputs": []
    },
    {
      "cell_type": "code",
      "source": [
        "X, y = load_diabetes(return_X_y=True)\n",
        "X_train, X_test, y_train, y_test = train_test_split(X, y, test_size=0.2, random_state=42)\n",
        "\n",
        "base_reg = DecisionTreeRegressor()"
      ],
      "metadata": {
        "id": "eOH0AufBaIzu"
      },
      "execution_count": null,
      "outputs": []
    },
    {
      "cell_type": "code",
      "source": [
        "#Normal Bagging\n",
        "bagging_normal1 = BaggingRegressor(estimator= base_reg, n_estimators=10,bootstrap=True,bootstrap_features=False, random_state=1)"
      ],
      "metadata": {
        "id": "6Es30NKdax5_"
      },
      "execution_count": null,
      "outputs": []
    },
    {
      "cell_type": "code",
      "source": [
        "#Pasting Bagging\n",
        "bagging_pasting1 = BaggingRegressor(estimator= base_reg, n_estimators=10,bootstrap=False,bootstrap_features=False, random_state=1)"
      ],
      "metadata": {
        "id": "fCaHEtLMbPW1"
      },
      "execution_count": null,
      "outputs": []
    },
    {
      "cell_type": "code",
      "source": [
        "#Random Subspace Bagging\n",
        "bagging_subspace1 = BaggingRegressor(estimator= base_reg, n_estimators=10,bootstrap=False,bootstrap_features=True, max_features=0.7, random_state=1)"
      ],
      "metadata": {
        "id": "JeuEP8Yrbfk6"
      },
      "execution_count": null,
      "outputs": []
    },
    {
      "cell_type": "code",
      "source": [
        "#Random Patch Bagging\n",
        "bagging_patch1 = BaggingRegressor(estimator= base_reg, n_estimators=10,bootstrap=True,bootstrap_features=True, max_samples=0.7, max_features=0.7, random_state=1)"
      ],
      "metadata": {
        "id": "TZ_hDg9Hb4Y_"
      },
      "execution_count": null,
      "outputs": []
    },
    {
      "cell_type": "code",
      "source": [
        "reg_models = {\n",
        "    \"Normal Bagging\": bagging_normal1,\n",
        "    \"Pasting Bagging\": bagging_pasting1,\n",
        "    \"Random Subspace Bagging\": bagging_subspace1,\n",
        "    \"Random Patches Bagging\": bagging_pasting1\n",
        "}"
      ],
      "metadata": {
        "id": "A5d2CgRvcJn9"
      },
      "execution_count": null,
      "outputs": []
    },
    {
      "cell_type": "code",
      "source": [
        "for name, model in reg_models.items():\n",
        "  model.fit(X_train, y_train)\n",
        "  y_pred = model.predict(X_test)\n",
        "  mse = mean_squared_error(y_test, y_pred)\n",
        "  print(f\"{name} MSE: {mse:.2f}\")"
      ],
      "metadata": {
        "id": "uvrQofpncw5x"
      },
      "execution_count": null,
      "outputs": []
    }
  ]
}